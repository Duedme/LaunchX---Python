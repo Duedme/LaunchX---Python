{
 "cells": [
  {
   "cell_type": "markdown",
   "metadata": {},
   "source": [
    "# Ejercicio 1"
   ]
  },
  {
   "cell_type": "code",
   "execution_count": 5,
   "metadata": {},
   "outputs": [
    {
     "name": "stdout",
     "output_type": "stream",
     "text": [
      "Si ha terminado, sólo escriba: 'done' \n",
      "Si ha terminado, sólo escriba: 'done' \n",
      "Si ha terminado, sólo escriba: 'done' \n",
      "Si ha terminado, sólo escriba: 'done' \n",
      "Usted ha terminado\n"
     ]
    }
   ],
   "source": [
    "new_planet = \"\"\n",
    "planets = []\n",
    "\n",
    "while new_planet != 'done':\n",
    "    new_planet = input(\"Por favor diga el nombre del nuevo planeta\")\n",
    "    if len(new_planet) != 0 and new_planet != 'done':\n",
    "        planets.append(new_planet)\n",
    "    elif new_planet == 'done':\n",
    "        print(\"Usted ha terminado\")\n",
    "        break\n",
    "    else:\n",
    "        print(\"Por favor escriba algo de verdad\")\n",
    "    \n",
    "    print(\"Si ha terminado, sólo escriba: 'done' \")"
   ]
  },
  {
   "cell_type": "markdown",
   "metadata": {},
   "source": [
    "# Ejercicio 2"
   ]
  },
  {
   "cell_type": "code",
   "execution_count": 6,
   "metadata": {},
   "outputs": [
    {
     "name": "stdout",
     "output_type": "stream",
     "text": [
      "Mercurio\n",
      "Urano\n",
      "Tierra\n",
      "Júpiter\n"
     ]
    }
   ],
   "source": [
    "for planet in planets:\n",
    "    print(planet)"
   ]
  }
 ],
 "metadata": {
  "interpreter": {
   "hash": "aee8b7b246df8f9039afb4144a1f6fd8d2ca17a180786b69acc140d282b71a49"
  },
  "kernelspec": {
   "display_name": "Python 3.9.9 64-bit",
   "language": "python",
   "name": "python3"
  },
  "language_info": {
   "codemirror_mode": {
    "name": "ipython",
    "version": 3
   },
   "file_extension": ".py",
   "mimetype": "text/x-python",
   "name": "python",
   "nbconvert_exporter": "python",
   "pygments_lexer": "ipython3",
   "version": "3.9.9"
  },
  "orig_nbformat": 4
 },
 "nbformat": 4,
 "nbformat_minor": 2
}
