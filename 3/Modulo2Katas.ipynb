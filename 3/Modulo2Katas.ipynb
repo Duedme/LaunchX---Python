{
 "cells": [
  {
   "cell_type": "markdown",
   "metadata": {},
   "source": [
    "# Ejercicio if-elif-else"
   ]
  },
  {
   "cell_type": "code",
   "execution_count": 1,
   "metadata": {},
   "outputs": [
    {
     "name": "stdout",
     "output_type": "stream",
     "text": [
      "Advertencia\n",
      "¡Mira al cielo otra vez!\n"
     ]
    }
   ],
   "source": [
    "velocidad = 49\n",
    "\n",
    "if velocidad > 25:\n",
    "    print(\"Advertencia\")\n",
    "else:\n",
    "    print(\"Todo normal\")\n",
    "\n",
    "if velocidad == 20:\n",
    "    print(\"¡Mira al cielo!\")\n",
    "elif velocidad > 20:\n",
    "    print(\"¡Mira al cielo otra vez!\")\n",
    "else:\n",
    "    print(\"No haga nada joven\")"
   ]
  },
  {
   "cell_type": "markdown",
   "metadata": {},
   "source": [
    "# Ejercicio And\n"
   ]
  },
  {
   "cell_type": "code",
   "execution_count": 2,
   "metadata": {},
   "outputs": [
    {
     "name": "stdout",
     "output_type": "stream",
     "text": [
      "Váyase joven\n"
     ]
    }
   ],
   "source": [
    "velocidad = 49\n",
    "dimension = 25\n",
    "\n",
    "if dimension > 25 and velocidad > 25:\n",
    "    print(\"Habrán problemas\")\n",
    "elif velocidad == 20:\n",
    "    print(\"¡Mira al cielo!\")\n",
    "elif dimension < 25:\n",
    "    print(\"Váyase joven\")\n",
    "else:\n",
    "    print(\"Váyase joven\")"
   ]
  }
 ],
 "metadata": {
  "interpreter": {
   "hash": "aee8b7b246df8f9039afb4144a1f6fd8d2ca17a180786b69acc140d282b71a49"
  },
  "kernelspec": {
   "display_name": "Python 3.9.9 64-bit",
   "language": "python",
   "name": "python3"
  },
  "language_info": {
   "codemirror_mode": {
    "name": "ipython",
    "version": 3
   },
   "file_extension": ".py",
   "mimetype": "text/x-python",
   "name": "python",
   "nbconvert_exporter": "python",
   "pygments_lexer": "ipython3",
   "version": "3.9.9"
  },
  "orig_nbformat": 4
 },
 "nbformat": 4,
 "nbformat_minor": 2
}
