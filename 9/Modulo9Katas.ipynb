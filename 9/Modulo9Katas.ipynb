{
 "cells": [
  {
   "cell_type": "markdown",
   "metadata": {},
   "source": [
    "# Ejercicio 1"
   ]
  },
  {
   "cell_type": "code",
   "execution_count": 3,
   "metadata": {},
   "outputs": [
    {
     "name": "stdout",
     "output_type": "stream",
     "text": [
      "El tanque 1 tiene 1, el 2 tiene 2 y el 3 3 y su promedio es 2.0\n"
     ]
    }
   ],
   "source": [
    "def informe(tanque1, tanque2, tanque3):\n",
    "    return f\"El tanque 1 tiene {tanque1}, el 2 tiene {tanque2} y el 3 {tanque3} y su promedio es {promedio(tanque1, tanque2, tanque3)}\"\n",
    "\n",
    "def promedio(tanque1, tanque2, tanque3):\n",
    "    return (tanque1 + tanque2 + tanque3)/3\n",
    "\n",
    "print(informe(1, 2, 3))"
   ]
  },
  {
   "cell_type": "markdown",
   "metadata": {},
   "source": [
    "# Ejercicio 2"
   ]
  },
  {
   "cell_type": "code",
   "execution_count": 9,
   "metadata": {},
   "outputs": [
    {
     "name": "stdout",
     "output_type": "stream",
     "text": [
      "\n",
      "    La hora es: 10\n",
      "    El tiempo de viaje es: 20\n",
      "    El total de combustible interno es: 30\n",
      "    El número de tanques externos es: 3\n"
     ]
    }
   ],
   "source": [
    "def informado(hora, tiempo, *tanque_interno, **tanque_externo):\n",
    "    return f\"\"\"\n",
    "    La hora es: {hora}\n",
    "    El tiempo de viaje es: {tiempo}\n",
    "    El total de combustible interno es: {sum(tanque_interno)}\n",
    "    El número de tanques externos es: {sum(tanque_externo.values())}\"\"\"\n",
    "\n",
    "print(informado(10, 20, 10, 10, 10, primero= 1, segundo= 2))"
   ]
  }
 ],
 "metadata": {
  "interpreter": {
   "hash": "aee8b7b246df8f9039afb4144a1f6fd8d2ca17a180786b69acc140d282b71a49"
  },
  "kernelspec": {
   "display_name": "Python 3.9.9 64-bit",
   "language": "python",
   "name": "python3"
  },
  "language_info": {
   "codemirror_mode": {
    "name": "ipython",
    "version": 3
   },
   "file_extension": ".py",
   "mimetype": "text/x-python",
   "name": "python",
   "nbconvert_exporter": "python",
   "pygments_lexer": "ipython3",
   "version": "3.9.9"
  },
  "orig_nbformat": 4
 },
 "nbformat": 4,
 "nbformat_minor": 2
}
