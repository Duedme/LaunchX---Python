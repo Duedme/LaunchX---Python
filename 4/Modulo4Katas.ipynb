{
 "cells": [
  {
   "cell_type": "markdown",
   "metadata": {},
   "source": [
    "# Ejercicio 1"
   ]
  },
  {
   "cell_type": "code",
   "execution_count": 2,
   "metadata": {},
   "outputs": [
    {
     "name": "stdout",
     "output_type": "stream",
     "text": [
      "average\n",
      "temperature\n"
     ]
    },
    {
     "data": {
      "text/plain": [
       "'Interesting facts about the Moon. The Moon is Earth\\'s only satellite. There are several interesting facts about the Moon and how it affects life here on Earth. \\n\",\\n        \"On average, the Moon moves 4cm away from the Earth every year. This yearly drift is not significant enough to cause immediate effects on Earth. The highest daylight temperature of the Moon is 127 Celsius.'"
      ]
     },
     "execution_count": 2,
     "metadata": {},
     "output_type": "execute_result"
    }
   ],
   "source": [
    "text = \"\"\"Interesting facts about the Moon. The Moon is Earth's only satellite. There are several interesting facts about the Moon and how it affects life here on Earth. \\n\",\n",
    "        \"On average, the Moon moves 4cm away from the Earth every year. This yearly drift is not significant enough to cause immediate effects on Earth. The highest daylight temperature of the Moon is 127 C.\"\"\"\n",
    "\n",
    "text_list = text.split(\". \") \n",
    "\n",
    "for word in text_list:\n",
    "    if \"average\" in word.lower():\n",
    "        print(\"average\")\n",
    "    elif \"temperature\" in word.lower():\n",
    "        print(\"temperature\")\n",
    "    elif \"distance\" in word.lower():\n",
    "        print(\"distance\")\n",
    "    else:\n",
    "        continue\n",
    "        \n",
    "text.replace(\"C\", \"Celsius\")"
   ]
  },
  {
   "cell_type": "markdown",
   "metadata": {},
   "source": [
    "# Ejercicio 2"
   ]
  },
  {
   "cell_type": "code",
   "execution_count": 10,
   "metadata": {},
   "outputs": [
    {
     "name": "stdout",
     "output_type": "stream",
     "text": [
      "Gravity Facts About Moon\n",
      "_____________________\n",
      "El nombre del planeta es: Earth. \n",
      "Y su gravedad es: 1.6199999999999999\n",
      "\n",
      "\n",
      "Gravity Facts About Ganímedes\n",
      "_____________________\n",
      "El nombre del planeta es: Marte . \n",
      "Y su gravedad es: 1.4300000000000002\n"
     ]
    }
   ],
   "source": [
    "# Datos con los que vas a trabajar\n",
    "name = \"Moon\"\n",
    "gravity = 0.00162 # in kms\n",
    "planet = \"Earth\"\n",
    "\n",
    "titulo = \"gravity facts about {}\".format(name)\n",
    "plantilla = \"El nombre del planeta es: {planet}. \\nY su gravedad es: {gravity}\".format(planet= planet, gravity = gravity*1000)\n",
    "\n",
    "#Con la Tierra\n",
    "union = titulo.title() + \"\\n_____________________\\n\" + plantilla\n",
    "print(union)\n",
    "\n",
    "#Con la de Marte\n",
    "# Nuevos datos muestra\n",
    "planet = 'Marte '\n",
    "gravity = 0.00143\n",
    "name = 'Ganímedes'\n",
    "\n",
    "titulo = \"\\n\\ngravity facts about {}\".format(name)\n",
    "plantilla = \"El nombre del planeta es: {planet}. \\nY su gravedad es: {gravity}\".format(planet= planet, gravity = gravity*1000)\n",
    "union = titulo.title() + \"\\n_____________________\\n\" + plantilla\n",
    "print(union)"
   ]
  }
 ],
 "metadata": {
  "interpreter": {
   "hash": "aee8b7b246df8f9039afb4144a1f6fd8d2ca17a180786b69acc140d282b71a49"
  },
  "kernelspec": {
   "display_name": "Python 3.9.9 64-bit",
   "language": "python",
   "name": "python3"
  },
  "language_info": {
   "codemirror_mode": {
    "name": "ipython",
    "version": 3
   },
   "file_extension": ".py",
   "mimetype": "text/x-python",
   "name": "python",
   "nbconvert_exporter": "python",
   "pygments_lexer": "ipython3",
   "version": "3.9.9"
  },
  "orig_nbformat": 4
 },
 "nbformat": 4,
 "nbformat_minor": 2
}
