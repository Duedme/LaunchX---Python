{
 "cells": [
  {
   "cell_type": "markdown",
   "metadata": {},
   "source": [
    "# Ejercicio 1"
   ]
  },
  {
   "cell_type": "code",
   "execution_count": 3,
   "metadata": {},
   "outputs": [
    {
     "name": "stdout",
     "output_type": "stream",
     "text": [
      "628949321\n",
      "390577528.341\n"
     ]
    }
   ],
   "source": [
    "tierra = 149597879\n",
    "jupiter = 778547200\n",
    "\n",
    "distancia = jupiter - tierra\n",
    "distancia_millas = distancia * 0.621\n",
    "\n",
    "print(str(distancia) + \"\\n\" + str(distancia_millas))"
   ]
  },
  {
   "cell_type": "markdown",
   "metadata": {},
   "source": [
    "# Ejercicio 2"
   ]
  },
  {
   "cell_type": "code",
   "execution_count": 6,
   "metadata": {},
   "outputs": [
    {
     "name": "stdout",
     "output_type": "stream",
     "text": [
      "552.069\n"
     ]
    }
   ],
   "source": [
    "distancia1 = input(\"¿Cuál es la distancia del primer planeta?:\\t\")\n",
    "distancia2 = input(\"¿Cuál es lal distancia del segundo planeta?\\t\")\n",
    "\n",
    "distancia1_int = int(distancia1)\n",
    "distancia2_int = int(distancia2)\n",
    "\n",
    "distancia_entre_ellos = abs(distancia1_int - distancia2_int)\n",
    "distancia_entre_ellos_millas = distancia_entre_ellos*0.621\n",
    "\n",
    "print(distancia_entre_ellos_millas)"
   ]
  }
 ],
 "metadata": {
  "interpreter": {
   "hash": "aee8b7b246df8f9039afb4144a1f6fd8d2ca17a180786b69acc140d282b71a49"
  },
  "kernelspec": {
   "display_name": "Python 3.9.9 64-bit",
   "language": "python",
   "name": "python3"
  },
  "language_info": {
   "codemirror_mode": {
    "name": "ipython",
    "version": 3
   },
   "file_extension": ".py",
   "mimetype": "text/x-python",
   "name": "python",
   "nbconvert_exporter": "python",
   "pygments_lexer": "ipython3",
   "version": "3.9.9"
  },
  "orig_nbformat": 4
 },
 "nbformat": 4,
 "nbformat_minor": 2
}
